{
 "cells": [
  {
   "cell_type": "code",
   "execution_count": 66,
   "id": "3a494ed3",
   "metadata": {},
   "outputs": [],
   "source": [
    "'''\n",
    "Assignment: “hello, graph world”\n",
    "    \n",
    "When software developers are starting to work in a new environment, they are encouraged to start with a simple “beachhead” program.\n",
    "\n",
    "In this assignment, you’re asked to create the nodes and edges for a basic graph, such as the Krackhardt kite shown\n",
    "below. (You’re welcome to substitute data of your own choosing).\n",
    "\n",
    "You may use a package of your own choosing, such as iGraph or NetworkX, or…? Your code should be delivered in an\n",
    "IPython notebook, and placed into GitHub. In your assignment link, please provide a link to your GitHub repository.\n",
    "'''\n",
    "\n",
    "import networkx as nx\n",
    "import numpy as np\n",
    "import urllib\n",
    "import matplotlib.pyplot as plt\n",
    "\n"
   ]
  },
  {
   "cell_type": "code",
   "execution_count": 67,
   "id": "07d1719a",
   "metadata": {
    "scrolled": true
   },
   "outputs": [
    {
     "data": {
      "image/png": "[encoded data removed]",
      "text/plain": [
       "<Figure size 432x288 with 1 Axes>"
      ]
     },
     "metadata": {},
     "output_type": "display_data"
    }
   ],
   "source": [
    "\n",
    "Alex_graph = nx.Graph()\n",
    "\n",
    "Alex_graph.add_node('Ed',pos=(3,1))\n",
    "Alex_graph.add_node('Beverly',pos=(2,2))\n",
    "Alex_graph.add_node('Garth',pos=(4,2))\n",
    "Alex_graph.add_node('Diane',pos=(3,3))\n",
    "Alex_graph.add_node('Andre',pos=(2,4))\n",
    "Alex_graph.add_node('Fernando',pos=(4,4))\n",
    "Alex_graph.add_node('Carol',pos=(3,5))\n",
    "Alex_graph.add_node('Heather',pos=(5,3))\n",
    "Alex_graph.add_node('Ike',pos=(6,3))\n",
    "Alex_graph.add_node('Jane',pos=(7,3))\n",
    "\n",
    "Alex_graph.add_edges_from([(\"Andre\",\"Carol\"),\n",
    "                 (\"Andre\",\"Fernando\"),\n",
    "                 (\"Andre\",\"Diane\"),\n",
    "                 (\"Andre\",\"Beverly\"),\n",
    "                 (\"Andre\",\"Garth\"),\n",
    "                 (\"Carol\",\"Diane\"),\n",
    "                 (\"Carol\",\"Fernando\"),\n",
    "                 (\"Carol\",\"Ed\"),\n",
    "                 (\"Carol\",\"Heather\"),\n",
    "                 (\"Beverly\",\"Ed\"),\n",
    "                 (\"Beverly\",\"Diane\"),\n",
    "                 (\"Beverly\",\"Fernando\"),\n",
    "                 (\"Beverly\",\"Garth\"),\n",
    "                 (\"Diane\",\"Ed\"),\n",
    "                 (\"Diane\",\"Garth\"),\n",
    "                 (\"Diane\",\"Fernando\"),\n",
    "                 (\"Fernando\",\"Garth\"),\n",
    "                 (\"Fernando\",\"Heather\"),\n",
    "                 (\"Garth\",\"Ed\"),\n",
    "                 (\"Garth\",\"Heather\"),\n",
    "                 (\"Heather\",\"Ike\"),\n",
    "                 (\"Ike\",\"Jane\")])\n",
    "pos = nx.get_node_attributes(Alex_graph, 'pos') #position of nodes\n",
    "#pos\n",
    "#nx.draw_networkx_nodes(Alex_graph, pos, node_size = 300, node_color=\"red\") # specifying color\n",
    "nx.draw(Alex_graph, pos, with_labels = True, font_weight = \"bold\") #default color\n",
    "\n",
    "# For aestethic ...Beverly was not showing...so I decided to set the limit of x,y axes\n",
    "#xpoints = np.array([0, 10])\n",
    "#ypoints = np.array([0, 10])\n",
    "#plt.plot(xpoints,ypoints, ' ') # the ' ' will trick plot not to show the xy line\n",
    "\n",
    "#Another way is to simply set the xlim()\n",
    "plt.xlim(0, 7.5)\n",
    "plt.ylim(0, 7.5)\n",
    "plt.show()"
   ]
  },
  {
   "cell_type": "code",
   "execution_count": null,
   "id": "f0f7c41a",
   "metadata": {},
   "outputs": [],
   "source": []
  },
  {
   "cell_type": "code",
   "execution_count": null,
   "id": "851ba843",
   "metadata": {},
   "outputs": [],
   "source": []
  },
  {
   "cell_type": "code",
   "execution_count": null,
   "id": "c2a016c2",
   "metadata": {},
   "outputs": [],
   "source": []
  },
  {
   "cell_type": "code",
   "execution_count": null,
   "id": "42add9fd",
   "metadata": {},
   "outputs": [],
   "source": []
  },
  {
   "cell_type": "code",
   "execution_count": null,
   "id": "e223bf1a",
   "metadata": {},
   "outputs": [],
   "source": []
  }
 ],
 "metadata": {
  "kernelspec": {
   "display_name": "Python 3",
   "language": "python",
   "name": "python3"
  },
  "language_info": {
   "codemirror_mode": {
    "name": "ipython",
    "version": 3
   },
   "file_extension": ".py",
   "mimetype": "text/x-python",
   "name": "python",
   "nbconvert_exporter": "python",
   "pygments_lexer": "ipython3",
   "version": "3.8.8"
  }
 },
 "nbformat": 4,
 "nbformat_minor": 5
}
